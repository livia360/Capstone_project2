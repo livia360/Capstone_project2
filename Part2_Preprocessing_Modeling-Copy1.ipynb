{
 "cells": [
  {
   "cell_type": "markdown",
   "id": "47bca34f",
   "metadata": {
    "toc": true
   },
   "source": [
    "<h1>Table of Contents<span class=\"tocSkip\"></span></h1>\n",
    "<div class=\"toc\"><ul class=\"toc-item\"><li><span><a href=\"#Import-libraries-and-load-the-data\" data-toc-modified-id=\"Import-libraries-and-load-the-data-1\"><span class=\"toc-item-num\">1&nbsp;&nbsp;</span>Import libraries and load the data</a></span><ul class=\"toc-item\"><li><span><a href=\"#Train-and-Test-Splits\" data-toc-modified-id=\"Train-and-Test-Splits-1.1\"><span class=\"toc-item-num\">1.1&nbsp;&nbsp;</span>Train and Test Splits</a></span></li><li><span><a href=\"#1.2-Scaler\" data-toc-modified-id=\"1.2-Scaler-1.2\"><span class=\"toc-item-num\">1.2&nbsp;&nbsp;</span>1.2 Scaler</a></span></li></ul></li><li><span><a href=\"#2.-Modeling\" data-toc-modified-id=\"2.-Modeling-2\"><span class=\"toc-item-num\">2&nbsp;&nbsp;</span>2. Modeling</a></span><ul class=\"toc-item\"><li><span><a href=\"#Dummy-regressor\" data-toc-modified-id=\"Dummy-regressor-2.1\"><span class=\"toc-item-num\">2.1&nbsp;&nbsp;</span>Dummy regressor</a></span></li><li><span><a href=\"#OLS-regressor\" data-toc-modified-id=\"OLS-regressor-2.2\"><span class=\"toc-item-num\">2.2&nbsp;&nbsp;</span>OLS regressor</a></span><ul class=\"toc-item\"><li><span><a href=\"#Make-predictions-on-both-train-and-test-splits\" data-toc-modified-id=\"Make-predictions-on-both-train-and-test-splits-2.2.1\"><span class=\"toc-item-num\">2.2.1&nbsp;&nbsp;</span>Make predictions on both train and test splits</a></span></li><li><span><a href=\"#Assess-the-model-performance\" data-toc-modified-id=\"Assess-the-model-performance-2.2.2\"><span class=\"toc-item-num\">2.2.2&nbsp;&nbsp;</span>Assess the model performance</a></span></li></ul></li><li><span><a href=\"#Random-forest-regressor\" data-toc-modified-id=\"Random-forest-regressor-2.3\"><span class=\"toc-item-num\">2.3&nbsp;&nbsp;</span>Random forest regressor</a></span><ul class=\"toc-item\"><li><span><a href=\"#Hyperparameter-search\" data-toc-modified-id=\"Hyperparameter-search-2.3.1\"><span class=\"toc-item-num\">2.3.1&nbsp;&nbsp;</span>Hyperparameter search</a></span><ul class=\"toc-item\"><li><span><a href=\"#search-for-the-number-of-estimators-only\" data-toc-modified-id=\"search-for-the-number-of-estimators-only-2.3.1.1\"><span class=\"toc-item-num\">2.3.1.1&nbsp;&nbsp;</span>search for the number of estimators only</a></span></li><li><span><a href=\"#search-for-the-number-of-estimators,-max_depth,-min_samples_split,-min_samples_leaf,-bootstrap-...\" data-toc-modified-id=\"search-for-the-number-of-estimators,-max_depth,-min_samples_split,-min_samples_leaf,-bootstrap-...-2.3.1.2\"><span class=\"toc-item-num\">2.3.1.2&nbsp;&nbsp;</span>search for the number of estimators, max_depth, min_samples_split, min_samples_leaf, bootstrap ...</a></span></li></ul></li></ul></li></ul></li><li><span><a href=\"#Data-Quantity-Assessment\" data-toc-modified-id=\"Data-Quantity-Assessment-3\"><span class=\"toc-item-num\">3&nbsp;&nbsp;</span>Data Quantity Assessment</a></span></li><li><span><a href=\"#Save-model\" data-toc-modified-id=\"Save-model-4\"><span class=\"toc-item-num\">4&nbsp;&nbsp;</span>Save model</a></span></li><li><span><a href=\"#Summary-and-further-analysis\" data-toc-modified-id=\"Summary-and-further-analysis-5\"><span class=\"toc-item-num\">5&nbsp;&nbsp;</span>Summary and further analysis</a></span></li></ul></div>"
   ]
  },
  {
   "cell_type": "markdown",
   "id": "062e2df1",
   "metadata": {},
   "source": [
    "## Import libraries and load the data"
   ]
  },
  {
   "cell_type": "code",
   "execution_count": 1,
   "id": "d6608f8d",
   "metadata": {},
   "outputs": [],
   "source": [
    "import pandas as pd\n",
    "import numpy as np\n",
    "import matplotlib.pyplot as plt\n",
    "import seaborn as sns\n",
    "import datetime\n",
    "\n",
    "from sklearn.preprocessing import StandardScaler\n",
    "from sklearn.model_selection import train_test_split, cross_validate, GridSearchCV, learning_curve, cross_val_score\n",
    "from sklearn.dummy import DummyRegressor\n",
    "from sklearn.linear_model import LinearRegression\n",
    "from sklearn.ensemble import RandomForestRegressor\n",
    "from sklearn.metrics import r2_score, mean_squared_error, mean_absolute_error\n",
    "\n",
    "from sklearn.pipeline import make_pipeline\n",
    "from sklearn.impute import SimpleImputer\n",
    "from sklearn.feature_selection import SelectKBest, f_regression\n",
    "\n",
    "from sklearn import __version__ as sklearn_version\n",
    "from library.sb_utils import save_file\n",
    "%matplotlib inline\n",
    "\n",
    "sns.set_style('whitegrid') \n",
    "# plt.style.use('ggplot')\n",
    "import warnings\n",
    "warnings.filterwarnings(\"ignore\")"
   ]
  },
  {
   "cell_type": "code",
   "execution_count": 2,
   "id": "3ad89cac",
   "metadata": {},
   "outputs": [
    {
     "data": {
      "text/html": [
       "<div>\n",
       "<style scoped>\n",
       "    .dataframe tbody tr th:only-of-type {\n",
       "        vertical-align: middle;\n",
       "    }\n",
       "\n",
       "    .dataframe tbody tr th {\n",
       "        vertical-align: top;\n",
       "    }\n",
       "\n",
       "    .dataframe thead th {\n",
       "        text-align: right;\n",
       "    }\n",
       "</style>\n",
       "<table border=\"1\" class=\"dataframe\">\n",
       "  <thead>\n",
       "    <tr style=\"text-align: right;\">\n",
       "      <th></th>\n",
       "      <th>State</th>\n",
       "      <th>avg_sales_state</th>\n",
       "      <th>avg_profit_state</th>\n",
       "      <th>avg_discount_state</th>\n",
       "      <th>avg_wating_days_state</th>\n",
       "      <th>Same_day_ratio</th>\n",
       "      <th>First Class_ratio</th>\n",
       "      <th>Second Class_ratio</th>\n",
       "      <th>Standard Class_ratio</th>\n",
       "      <th>Consumer_ratio</th>\n",
       "      <th>Corporate_ratio</th>\n",
       "      <th>Home_Office_ratio</th>\n",
       "      <th>Furniture_ratio</th>\n",
       "      <th>Office_Supplies_ratio</th>\n",
       "      <th>Technology_ratio</th>\n",
       "    </tr>\n",
       "  </thead>\n",
       "  <tbody>\n",
       "    <tr>\n",
       "      <th>0</th>\n",
       "      <td>Alabama</td>\n",
       "      <td>66.611429</td>\n",
       "      <td>14.281307</td>\n",
       "      <td>0.000000</td>\n",
       "      <td>4.261905</td>\n",
       "      <td>0.143788</td>\n",
       "      <td>0.338325</td>\n",
       "      <td>0.217522</td>\n",
       "      <td>0.300365</td>\n",
       "      <td>0.248680</td>\n",
       "      <td>0.350030</td>\n",
       "      <td>0.401290</td>\n",
       "      <td>0.386966</td>\n",
       "      <td>0.294453</td>\n",
       "      <td>0.318582</td>\n",
       "    </tr>\n",
       "    <tr>\n",
       "      <th>1</th>\n",
       "      <td>Arizona</td>\n",
       "      <td>66.156417</td>\n",
       "      <td>5.874764</td>\n",
       "      <td>0.282143</td>\n",
       "      <td>4.130952</td>\n",
       "      <td>0.206702</td>\n",
       "      <td>0.290648</td>\n",
       "      <td>0.331226</td>\n",
       "      <td>0.171423</td>\n",
       "      <td>0.288096</td>\n",
       "      <td>0.372998</td>\n",
       "      <td>0.338906</td>\n",
       "      <td>0.423539</td>\n",
       "      <td>0.138600</td>\n",
       "      <td>0.437862</td>\n",
       "    </tr>\n",
       "    <tr>\n",
       "      <th>2</th>\n",
       "      <td>Arkansas</td>\n",
       "      <td>48.697368</td>\n",
       "      <td>12.927255</td>\n",
       "      <td>0.000000</td>\n",
       "      <td>4.184211</td>\n",
       "      <td>0.097925</td>\n",
       "      <td>0.348283</td>\n",
       "      <td>0.270288</td>\n",
       "      <td>0.283504</td>\n",
       "      <td>0.392667</td>\n",
       "      <td>0.279767</td>\n",
       "      <td>0.327566</td>\n",
       "      <td>0.467137</td>\n",
       "      <td>0.272790</td>\n",
       "      <td>0.260074</td>\n",
       "    </tr>\n",
       "    <tr>\n",
       "      <th>3</th>\n",
       "      <td>California</td>\n",
       "      <td>74.152678</td>\n",
       "      <td>12.952794</td>\n",
       "      <td>0.065100</td>\n",
       "      <td>3.878159</td>\n",
       "      <td>0.209215</td>\n",
       "      <td>0.269920</td>\n",
       "      <td>0.258783</td>\n",
       "      <td>0.262082</td>\n",
       "      <td>0.349143</td>\n",
       "      <td>0.329902</td>\n",
       "      <td>0.320955</td>\n",
       "      <td>0.254495</td>\n",
       "      <td>0.297346</td>\n",
       "      <td>0.448159</td>\n",
       "    </tr>\n",
       "    <tr>\n",
       "      <th>4</th>\n",
       "      <td>Colorado</td>\n",
       "      <td>54.639008</td>\n",
       "      <td>3.092148</td>\n",
       "      <td>0.294697</td>\n",
       "      <td>3.704545</td>\n",
       "      <td>-0.263828</td>\n",
       "      <td>0.381189</td>\n",
       "      <td>0.689374</td>\n",
       "      <td>0.193265</td>\n",
       "      <td>0.422993</td>\n",
       "      <td>0.282505</td>\n",
       "      <td>0.294501</td>\n",
       "      <td>0.323776</td>\n",
       "      <td>0.117573</td>\n",
       "      <td>0.558651</td>\n",
       "    </tr>\n",
       "  </tbody>\n",
       "</table>\n",
       "</div>"
      ],
      "text/plain": [
       "        State  avg_sales_state  avg_profit_state  avg_discount_state  \\\n",
       "0     Alabama        66.611429         14.281307            0.000000   \n",
       "1     Arizona        66.156417          5.874764            0.282143   \n",
       "2    Arkansas        48.697368         12.927255            0.000000   \n",
       "3  California        74.152678         12.952794            0.065100   \n",
       "4    Colorado        54.639008          3.092148            0.294697   \n",
       "\n",
       "   avg_wating_days_state  Same_day_ratio  First Class_ratio  \\\n",
       "0               4.261905        0.143788           0.338325   \n",
       "1               4.130952        0.206702           0.290648   \n",
       "2               4.184211        0.097925           0.348283   \n",
       "3               3.878159        0.209215           0.269920   \n",
       "4               3.704545       -0.263828           0.381189   \n",
       "\n",
       "   Second Class_ratio  Standard Class_ratio  Consumer_ratio  Corporate_ratio  \\\n",
       "0            0.217522              0.300365        0.248680         0.350030   \n",
       "1            0.331226              0.171423        0.288096         0.372998   \n",
       "2            0.270288              0.283504        0.392667         0.279767   \n",
       "3            0.258783              0.262082        0.349143         0.329902   \n",
       "4            0.689374              0.193265        0.422993         0.282505   \n",
       "\n",
       "   Home_Office_ratio  Furniture_ratio  Office_Supplies_ratio  Technology_ratio  \n",
       "0           0.401290         0.386966               0.294453          0.318582  \n",
       "1           0.338906         0.423539               0.138600          0.437862  \n",
       "2           0.327566         0.467137               0.272790          0.260074  \n",
       "3           0.320955         0.254495               0.297346          0.448159  \n",
       "4           0.294501         0.323776               0.117573          0.558651  "
      ]
     },
     "execution_count": 2,
     "metadata": {},
     "output_type": "execute_result"
    }
   ],
   "source": [
    "df = pd.read_csv('./Data/all_sales_summary.csv')\n",
    "df.head()"
   ]
  },
  {
   "cell_type": "code",
   "execution_count": 3,
   "id": "af7efbc0",
   "metadata": {},
   "outputs": [
    {
     "name": "stdout",
     "output_type": "stream",
     "text": [
      "(48, 15)\n",
      "<class 'pandas.core.frame.DataFrame'>\n",
      "RangeIndex: 48 entries, 0 to 47\n",
      "Data columns (total 15 columns):\n",
      " #   Column                 Non-Null Count  Dtype  \n",
      "---  ------                 --------------  -----  \n",
      " 0   State                  48 non-null     object \n",
      " 1   avg_sales_state        48 non-null     float64\n",
      " 2   avg_profit_state       48 non-null     float64\n",
      " 3   avg_discount_state     48 non-null     float64\n",
      " 4   avg_wating_days_state  48 non-null     float64\n",
      " 5   Same_day_ratio         48 non-null     float64\n",
      " 6   First Class_ratio      48 non-null     float64\n",
      " 7   Second Class_ratio     48 non-null     float64\n",
      " 8   Standard Class_ratio   48 non-null     float64\n",
      " 9   Consumer_ratio         48 non-null     float64\n",
      " 10  Corporate_ratio        48 non-null     float64\n",
      " 11  Home_Office_ratio      48 non-null     float64\n",
      " 12  Furniture_ratio        48 non-null     float64\n",
      " 13  Office_Supplies_ratio  48 non-null     float64\n",
      " 14  Technology_ratio       48 non-null     float64\n",
      "dtypes: float64(14), object(1)\n",
      "memory usage: 5.8+ KB\n"
     ]
    },
    {
     "data": {
      "text/plain": [
       "Index(['State', 'avg_sales_state', 'avg_profit_state', 'avg_discount_state',\n",
       "       'avg_wating_days_state', 'Same_day_ratio', 'First Class_ratio',\n",
       "       'Second Class_ratio', 'Standard Class_ratio', 'Consumer_ratio',\n",
       "       'Corporate_ratio', 'Home_Office_ratio', 'Furniture_ratio',\n",
       "       'Office_Supplies_ratio', 'Technology_ratio'],\n",
       "      dtype='object')"
      ]
     },
     "execution_count": 3,
     "metadata": {},
     "output_type": "execute_result"
    }
   ],
   "source": [
    "print(df.shape)\n",
    "df.info()\n",
    "df.columns"
   ]
  },
  {
   "cell_type": "markdown",
   "id": "59761a51",
   "metadata": {},
   "source": [
    "### Train and Test Splits"
   ]
  },
  {
   "cell_type": "markdown",
   "id": "061625d3",
   "metadata": {},
   "source": [
    "In order to fit the models on the data, I first define the ‘X’ variable (independent variable) and the ‘Y’ variable (dependent variable). After defining the variables, split the data into a train set and test set using the ‘train_test_split’ function by scikit-learn. "
   ]
  },
  {
   "cell_type": "code",
   "execution_count": 4,
   "id": "49b23db6",
   "metadata": {},
   "outputs": [],
   "source": [
    "# to avoid multi-colinearity, drop columns 'Same_day_ratio', 'Consumer_ratio','Furniture_ratio'\n",
    "Target = ['avg_profit_state']\n",
    "Features = ['avg_sales_state',  'avg_discount_state',\n",
    "       'avg_wating_days_state', 'First Class_ratio',\n",
    "       'Second Class_ratio', 'Standard Class_ratio', \n",
    "       'Corporate_ratio', 'Home_Office_ratio', \n",
    "       'Office_Supplies_ratio', 'Technology_ratio']\n",
    "X = df[Features]\n",
    "y = df[Target]"
   ]
  },
  {
   "cell_type": "code",
   "execution_count": 5,
   "id": "2f982a19",
   "metadata": {},
   "outputs": [
    {
     "name": "stdout",
     "output_type": "stream",
     "text": [
      "(33, 10) (15, 10)\n"
     ]
    }
   ],
   "source": [
    "X_train, X_test, y_train, y_test = train_test_split(X, y, test_size=0.3, random_state=42)  \n",
    "print(X_train.shape, X_test.shape)\n",
    "train_columns = X_train.columns"
   ]
  },
  {
   "cell_type": "code",
   "execution_count": 6,
   "id": "91e1a64c",
   "metadata": {},
   "outputs": [
    {
     "data": {
      "text/plain": [
       "Index(['avg_sales_state', 'avg_discount_state', 'avg_wating_days_state',\n",
       "       'First Class_ratio', 'Second Class_ratio', 'Standard Class_ratio',\n",
       "       'Corporate_ratio', 'Home_Office_ratio', 'Office_Supplies_ratio',\n",
       "       'Technology_ratio'],\n",
       "      dtype='object')"
      ]
     },
     "execution_count": 6,
     "metadata": {},
     "output_type": "execute_result"
    }
   ],
   "source": [
    "train_columns"
   ]
  },
  {
   "cell_type": "markdown",
   "id": "1155e3a7",
   "metadata": {},
   "source": [
    "### 1.2 Scaler"
   ]
  },
  {
   "cell_type": "code",
   "execution_count": 7,
   "id": "c7126cce",
   "metadata": {},
   "outputs": [],
   "source": [
    "#Call StandardScaler method on `X_tr` to fit the scaler;\n",
    "# use `transform()` method to apply the scaling to both the train and test split.\n",
    "scaler = StandardScaler()\n",
    "X_train = scaler.fit_transform(X_train)\n",
    "X_test = scaler.transform(X_test)"
   ]
  },
  {
   "cell_type": "markdown",
   "id": "5abb30e0",
   "metadata": {},
   "source": [
    "## 2. Modeling"
   ]
  },
  {
   "cell_type": "markdown",
   "id": "eabe83b7",
   "metadata": {},
   "source": [
    "To build and train five different types of linear regression models:\n",
    "    - OLS model\n",
    "    - Lasso regression model\n",
    "    - Ridge regression model\n",
    "    - Elastic Net regression model\n",
    "    - Random forest regression model\n",
    "    \n",
    "    The linear regression model assumes a linear relationship between the input and output variables. If this relationship is present, we use Pearson correlation coefficients to measure the direction and strength of the linear relationship between two variables, and use evaluation metrics such as mean square error to measure the predictive power of the linear regression model. "
   ]
  },
  {
   "cell_type": "markdown",
   "id": "a14348fb",
   "metadata": {},
   "source": [
    "### Dummy regressor"
   ]
  },
  {
   "cell_type": "code",
   "execution_count": 8,
   "id": "2d278876",
   "metadata": {},
   "outputs": [
    {
     "data": {
      "text/plain": [
       "avg_profit_state    12.822677\n",
       "dtype: float64"
      ]
     },
     "execution_count": 8,
     "metadata": {},
     "output_type": "execute_result"
    }
   ],
   "source": [
    "train_mean = y_train.mean()\n",
    "train_mean"
   ]
  },
  {
   "cell_type": "code",
   "execution_count": 9,
   "id": "c84a0919",
   "metadata": {},
   "outputs": [
    {
     "data": {
      "text/plain": [
       "array([[12.82267725]])"
      ]
     },
     "execution_count": 9,
     "metadata": {},
     "output_type": "execute_result"
    }
   ],
   "source": [
    "# Fit the skilearn dummy regressor on the training data\n",
    "dumb_reg = DummyRegressor(strategy='mean')\n",
    "dumb_reg.fit(X_train, y_train)\n",
    "dumb_reg.constant_"
   ]
  },
  {
   "cell_type": "markdown",
   "id": "79aabe4e",
   "metadata": {},
   "source": [
    "### OLS regressor"
   ]
  },
  {
   "cell_type": "code",
   "execution_count": 10,
   "id": "5b2df23b",
   "metadata": {
    "scrolled": true
   },
   "outputs": [],
   "source": [
    "lm = LinearRegression().fit(X_train, y_train)"
   ]
  },
  {
   "cell_type": "markdown",
   "id": "217fa39d",
   "metadata": {},
   "source": [
    "#### Make predictions on both train and test splits"
   ]
  },
  {
   "cell_type": "code",
   "execution_count": 11,
   "id": "ecc19a38",
   "metadata": {},
   "outputs": [],
   "source": [
    "y_train_pred = lm.predict(X_train)\n",
    "y_test_pred = lm.predict(X_test)"
   ]
  },
  {
   "cell_type": "markdown",
   "id": "362a093e",
   "metadata": {},
   "source": [
    "#### Assess the model performance\n",
    "\n",
    "R^2 is a common metric, and interpretable in terms of the amount of variance explained, it's less appealing if you want an idea of how \"close\" your predictions are to the true values.\n",
    "Metrics that summarize the difference between predicted and actual values are _mean absolute error_ and _mean squared error_."
   ]
  },
  {
   "cell_type": "code",
   "execution_count": 12,
   "id": "8567a350",
   "metadata": {
    "scrolled": true
   },
   "outputs": [
    {
     "data": {
      "text/plain": [
       "(0.9269325480111517, 0.7697678330463447)"
      ]
     },
     "execution_count": 12,
     "metadata": {},
     "output_type": "execute_result"
    }
   ],
   "source": [
    "# r2\n",
    "lm_r2_score = r2_score(y_train, y_train_pred), r2_score(y_test, y_test_pred)\n",
    "lm_r2_score"
   ]
  },
  {
   "cell_type": "markdown",
   "id": "ff113e96",
   "metadata": {},
   "source": [
    " - 𝑅2  tells us how much of the variance we're explaining beyond that of using the mean. we see that the simple linear regression model explains over 91% of the variance on the train set and over 83% on the test set."
   ]
  },
  {
   "cell_type": "code",
   "execution_count": 13,
   "id": "b68c1968",
   "metadata": {},
   "outputs": [
    {
     "data": {
      "text/plain": [
       "(0.8379285922716475, 1.5922431736749572)"
      ]
     },
     "execution_count": 13,
     "metadata": {},
     "output_type": "execute_result"
    }
   ],
   "source": [
    "# mae\n",
    "lm_mae = mean_absolute_error(y_train, y_train_pred), mean_absolute_error(y_test, y_test_pred)\n",
    "lm_mae"
   ]
  },
  {
   "cell_type": "markdown",
   "id": "99366e9e",
   "metadata": {},
   "source": [
    "- On average we expect to estimate a profit within \\\\$0.96 to \\\\$1.4 of the real price. This is much, much better than the \\\\$12 from just guessing using the average."
   ]
  },
  {
   "cell_type": "code",
   "execution_count": 14,
   "id": "4912be56",
   "metadata": {},
   "outputs": [
    {
     "data": {
      "text/plain": [
       "(1.2601278107611205, 2.413075006141937)"
      ]
     },
     "execution_count": 14,
     "metadata": {},
     "output_type": "execute_result"
    }
   ],
   "source": [
    "# rmse\n",
    "lm_rmse = np.sqrt(mean_squared_error(y_train, y_train_pred)), np.sqrt(mean_squared_error(y_test, y_test_pred))\n",
    "lm_rmse"
   ]
  },
  {
   "cell_type": "markdown",
   "id": "cdc90540",
   "metadata": {},
   "source": [
    "### Random forest regressor"
   ]
  },
  {
   "cell_type": "code",
   "execution_count": 15,
   "id": "705a453b",
   "metadata": {},
   "outputs": [],
   "source": [
    "rf_pipe =  make_pipeline(\n",
    "    SimpleImputer(strategy='median'),\n",
    "    StandardScaler(),\n",
    "    RandomForestRegressor(random_state=42)\n",
    ")"
   ]
  },
  {
   "cell_type": "code",
   "execution_count": 16,
   "id": "b2fc44f3",
   "metadata": {},
   "outputs": [
    {
     "data": {
      "text/plain": [
       "array([ 0.39610813,  0.56236743,  0.79857221,  0.85930989, -0.13527414])"
      ]
     },
     "execution_count": 16,
     "metadata": {},
     "output_type": "execute_result"
    }
   ],
   "source": [
    "rf_cv = cross_validate(rf_pipe, X_train, y_train, cv=5)\n",
    "rf_cv\n",
    "rf_cv['test_score']"
   ]
  },
  {
   "cell_type": "markdown",
   "id": "d3ba9f7a",
   "metadata": {},
   "source": [
    "#### Hyperparameter search"
   ]
  },
  {
   "cell_type": "markdown",
   "id": "d097827b",
   "metadata": {},
   "source": [
    "##### search for the number of estimators only"
   ]
  },
  {
   "cell_type": "code",
   "execution_count": 17,
   "id": "8ae59fee",
   "metadata": {},
   "outputs": [
    {
     "data": {
      "text/plain": [
       "{'randomforestregressor__n_estimators': [10,\n",
       "  16,\n",
       "  27,\n",
       "  46,\n",
       "  77,\n",
       "  129,\n",
       "  215,\n",
       "  359,\n",
       "  599,\n",
       "  1000]}"
      ]
     },
     "execution_count": 17,
     "metadata": {},
     "output_type": "execute_result"
    }
   ],
   "source": [
    "n_est = [int(n) for n in np.logspace(start=1, stop=3, num=10)]\n",
    "grid_params = {\n",
    "        'randomforestregressor__n_estimators': n_est,\n",
    "}\n",
    "grid_params"
   ]
  },
  {
   "cell_type": "code",
   "execution_count": 18,
   "id": "01223ae9",
   "metadata": {},
   "outputs": [
    {
     "data": {
      "text/plain": [
       "GridSearchCV(cv=5,\n",
       "             estimator=Pipeline(steps=[('simpleimputer',\n",
       "                                        SimpleImputer(strategy='median')),\n",
       "                                       ('standardscaler', StandardScaler()),\n",
       "                                       ('randomforestregressor',\n",
       "                                        RandomForestRegressor(random_state=42))]),\n",
       "             n_jobs=-1,\n",
       "             param_grid={'randomforestregressor__n_estimators': [10, 16, 27, 46,\n",
       "                                                                 77, 129, 215,\n",
       "                                                                 359, 599,\n",
       "                                                                 1000]})"
      ]
     },
     "execution_count": 18,
     "metadata": {},
     "output_type": "execute_result"
    }
   ],
   "source": [
    "rf_grid_cv = GridSearchCV(rf_pipe, param_grid=grid_params, cv=5, n_jobs=-1)\n",
    "rf_grid_cv.fit(X_train, y_train)"
   ]
  },
  {
   "cell_type": "code",
   "execution_count": 19,
   "id": "ddb6bb21",
   "metadata": {},
   "outputs": [
    {
     "name": "stdout",
     "output_type": "stream",
     "text": [
      "{'randomforestregressor__n_estimators': 1000}\n"
     ]
    }
   ],
   "source": [
    "print(rf_grid_cv.best_params_)"
   ]
  },
  {
   "cell_type": "code",
   "execution_count": 20,
   "id": "803a8383",
   "metadata": {},
   "outputs": [
    {
     "data": {
      "image/png": "[encoded data removed]",
      "text/plain": [
       "<Figure size 720x360 with 1 Axes>"
      ]
     },
     "metadata": {},
     "output_type": "display_data"
    }
   ],
   "source": [
    "plt.subplots(figsize=(10, 5))\n",
    "imps = rf_grid_cv.best_estimator_.named_steps.randomforestregressor.feature_importances_\n",
    "rf_feat_imps = pd.Series(imps, index=train_columns).sort_values(ascending=False)\n",
    "rf_feat_imps.plot(kind='bar')\n",
    "plt.xlabel('features')\n",
    "plt.ylabel('importance')\n",
    "plt.title('Best random forest regressor feature importances');"
   ]
  },
  {
   "cell_type": "markdown",
   "id": "221ced3a",
   "metadata": {},
   "source": [
    "##### search for the number of estimators, max_depth, min_samples_split, min_samples_leaf, bootstrap ..."
   ]
  },
  {
   "cell_type": "code",
   "execution_count": 21,
   "id": "4105e0c9",
   "metadata": {},
   "outputs": [
    {
     "name": "stdout",
     "output_type": "stream",
     "text": [
      "{'n_estimators': [50, 57, 65, 73, 81, 89, 97, 105, 113, 121, 128, 136, 144, 152, 160, 168, 176, 184, 192, 200], 'max_features': ['auto', 'sqrt'], 'max_depth': [1, 10, 20, 30, 40, 50, 60, 70, 80, 90, 100, None], 'min_samples_split': [2, 5, 10], 'min_samples_leaf': [1, 2, 4], 'bootstrap': [True, False]}\n"
     ]
    }
   ],
   "source": [
    "from sklearn.model_selection import RandomizedSearchCV\n",
    "\n",
    "# tune number of trees in random forest\n",
    "n_estimators = [int(x) for x in np.linspace(start = 50, stop = 200, num = 20)]\n",
    "\n",
    "# Number of features to consider at every split\n",
    "max_features = ['auto', 'sqrt']\n",
    "\n",
    "# Maximum number of levels in tree\n",
    "max_depth = [int(x) for x in np.linspace(1, 100, num = 11)]\n",
    "max_depth.append(None)\n",
    "\n",
    "# Minimum number of samples required to split a node\n",
    "min_samples_split = [2, 5, 10]\n",
    "\n",
    "# Minimum number of samples required at each leaf node\n",
    "min_samples_leaf = [1, 2, 4]\n",
    "\n",
    "# Method of selecting samples for training each tree\n",
    "bootstrap = [True, False]\n",
    "\n",
    "# Create the random grid\n",
    "random_grid = {'n_estimators': n_estimators,\n",
    "               'max_features': max_features,\n",
    "               'max_depth': max_depth,\n",
    "               'min_samples_split': min_samples_split,\n",
    "               'min_samples_leaf': min_samples_leaf,\n",
    "               'bootstrap': bootstrap}\n",
    "print(random_grid)"
   ]
  },
  {
   "cell_type": "code",
   "execution_count": 41,
   "id": "3e6b2391",
   "metadata": {},
   "outputs": [
    {
     "name": "stdout",
     "output_type": "stream",
     "text": [
      "Fitting 5 folds for each of 10 candidates, totalling 50 fits\n"
     ]
    },
    {
     "data": {
      "text/plain": [
       "RandomizedSearchCV(cv=5, estimator=RandomForestRegressor(), n_jobs=-1,\n",
       "                   param_distributions={'bootstrap': [True, False],\n",
       "                                        'max_depth': [1, 10, 20, 30, 40, 50, 60,\n",
       "                                                      70, 80, 90, 100, None],\n",
       "                                        'max_features': ['auto', 'sqrt'],\n",
       "                                        'min_samples_leaf': [1, 2, 4],\n",
       "                                        'min_samples_split': [2, 5, 10],\n",
       "                                        'n_estimators': [50, 57, 65, 73, 81, 89,\n",
       "                                                         97, 105, 113, 121, 128,\n",
       "                                                         136, 144, 152, 160,\n",
       "                                                         168, 176, 184, 192,\n",
       "                                                         200]},\n",
       "                   random_state=42, verbose=2)"
      ]
     },
     "execution_count": 41,
     "metadata": {},
     "output_type": "execute_result"
    }
   ],
   "source": [
    "rf = RandomForestRegressor()\n",
    "\n",
    "# Random search of parameters, using 3 fold cross validation, \n",
    "# search across 100 different combinations, and use all available cores\n",
    "rf_random = RandomizedSearchCV(estimator = rf, param_distributions = random_grid, n_iter = 10, cv = 5, verbose=2, random_state=42, n_jobs = -1)\n",
    "\n",
    "# Fit the random search model\n",
    "rf_random.fit(X_train, y_train)"
   ]
  },
  {
   "cell_type": "code",
   "execution_count": 42,
   "id": "190e9314",
   "metadata": {},
   "outputs": [
    {
     "data": {
      "text/plain": [
       "{'n_estimators': 65,\n",
       " 'min_samples_split': 10,\n",
       " 'min_samples_leaf': 1,\n",
       " 'max_features': 'auto',\n",
       " 'max_depth': None,\n",
       " 'bootstrap': False}"
      ]
     },
     "execution_count": 42,
     "metadata": {},
     "output_type": "execute_result"
    }
   ],
   "source": [
    "rf_random.best_params_"
   ]
  },
  {
   "cell_type": "code",
   "execution_count": 43,
   "id": "797c4c9e",
   "metadata": {},
   "outputs": [
    {
     "data": {
      "text/plain": [
       "RandomForestRegressor(min_samples_split=10, n_estimators=65, random_state=42)"
      ]
     },
     "execution_count": 43,
     "metadata": {},
     "output_type": "execute_result"
    }
   ],
   "source": [
    "rf = RandomForestRegressor(n_estimators=65, min_samples_split=10, random_state=42)\n",
    "rf.fit(X_train, y_train)"
   ]
  },
  {
   "cell_type": "code",
   "execution_count": 44,
   "id": "d30db06b",
   "metadata": {},
   "outputs": [],
   "source": [
    "y_train_pred = rf.predict(X_train)\n",
    "y_test_pred = rf.predict(X_test)"
   ]
  },
  {
   "cell_type": "code",
   "execution_count": 45,
   "id": "c79b92c3",
   "metadata": {},
   "outputs": [
    {
     "data": {
      "text/plain": [
       "(0.9004982785018262, 0.9005991557500471)"
      ]
     },
     "execution_count": 45,
     "metadata": {},
     "output_type": "execute_result"
    }
   ],
   "source": [
    "rf_r2_score = r2_score(y_train, y_train_pred), r2_score(y_test, y_test_pred)\n",
    "rf_r2_score"
   ]
  },
  {
   "cell_type": "code",
   "execution_count": 46,
   "id": "74a46a98",
   "metadata": {},
   "outputs": [
    {
     "data": {
      "text/plain": [
       "(1.1256847636520422, 1.1992750824582283)"
      ]
     },
     "execution_count": 46,
     "metadata": {},
     "output_type": "execute_result"
    }
   ],
   "source": [
    "# mae\n",
    "rf_mae = mean_absolute_error(y_train, y_train_pred), mean_absolute_error(y_test, y_test_pred)\n",
    "rf_mae"
   ]
  },
  {
   "cell_type": "code",
   "execution_count": 47,
   "id": "3ab780de",
   "metadata": {},
   "outputs": [
    {
     "data": {
      "text/plain": [
       "(1.4705097633963309, 1.5855606437198833)"
      ]
     },
     "execution_count": 47,
     "metadata": {},
     "output_type": "execute_result"
    }
   ],
   "source": [
    "# rmse\n",
    "rf_rmse = np.sqrt(mean_squared_error(y_train, y_train_pred)), np.sqrt(mean_squared_error(y_test, y_test_pred))\n",
    "rf_rmse"
   ]
  },
  {
   "cell_type": "code",
   "execution_count": 48,
   "id": "3f625d86",
   "metadata": {},
   "outputs": [
    {
     "data": {
      "text/plain": [
       "array([0.02724296, 0.83192343, 0.00834479, 0.        , 0.04966992,\n",
       "       0.0828189 , 0.        , 0.        , 0.        , 0.        ])"
      ]
     },
     "execution_count": 48,
     "metadata": {},
     "output_type": "execute_result"
    }
   ],
   "source": [
    "rf_random.best_estimator_.feature_importances_"
   ]
  },
  {
   "cell_type": "code",
   "execution_count": 49,
   "id": "58d40708",
   "metadata": {
    "scrolled": false
   },
   "outputs": [
    {
     "data": {
      "image/png": "[encoded data removed]",
      "text/plain": [
       "<Figure size 720x360 with 1 Axes>"
      ]
     },
     "metadata": {},
     "output_type": "display_data"
    }
   ],
   "source": [
    "plt.subplots(figsize=(10, 5))\n",
    "imps = rf_random.best_estimator_.feature_importances_\n",
    "rf_feat_imps = pd.Series(imps, index=train_columns).sort_values(ascending=False)\n",
    "rf_feat_imps.plot(kind='bar')\n",
    "plt.xlabel('features')\n",
    "plt.ylabel('importance')\n",
    "plt.title('Best random forest regressor feature importances');"
   ]
  },
  {
   "cell_type": "markdown",
   "id": "8eebe272",
   "metadata": {},
   "source": [
    "## Data Quantity Assessment"
   ]
  },
  {
   "cell_type": "code",
   "execution_count": 31,
   "id": "571a53db",
   "metadata": {},
   "outputs": [],
   "source": [
    "# Would more data be useful?  Assess this trade off by seeing how performance varies with differing data set sizes.\n",
    "fractions = [.2, .25, .3, .35, .4, .45, .5, .6, .75, .8, 1.0]\n",
    "train_size, train_scores, test_scores = learning_curve(rf_pipe, X_train, y_train, train_sizes=fractions)\n",
    "train_scores_mean = np.mean(train_scores, axis=1)\n",
    "train_scores_std = np.std(train_scores, axis=1)\n",
    "test_scores_mean = np.mean(test_scores, axis=1)\n",
    "test_scores_std = np.std(test_scores, axis=1)"
   ]
  },
  {
   "cell_type": "code",
   "execution_count": 32,
   "id": "04389f20",
   "metadata": {},
   "outputs": [
    {
     "data": {
      "image/png": "[encoded data removed]",
      "text/plain": [
       "<Figure size 720x360 with 1 Axes>"
      ]
     },
     "metadata": {},
     "output_type": "display_data"
    }
   ],
   "source": [
    "plt.subplots(figsize=(10, 5))\n",
    "plt.errorbar(train_size, test_scores_mean, yerr=test_scores_std)\n",
    "plt.xlabel('Training set size')\n",
    "plt.ylabel('CV scores')\n",
    "plt.title('Cross-validation score as training set size increases');"
   ]
  },
  {
   "cell_type": "markdown",
   "id": "0d6b7207",
   "metadata": {},
   "source": [
    " - There's an initial rapid improvement in model scores as one would expect, but it's essentially leveled off by around a sample size of 20.  This shows that we seem to have plenty of data. "
   ]
  },
  {
   "cell_type": "markdown",
   "id": "523956ed",
   "metadata": {},
   "source": [
    "## Save model"
   ]
  },
  {
   "cell_type": "code",
   "execution_count": 33,
   "id": "428642f2",
   "metadata": {},
   "outputs": [
    {
     "name": "stdout",
     "output_type": "stream",
     "text": [
      "A file already exists with this name.\n",
      "\n",
      "Do you want to overwrite? (Y/N)Y\n",
      "Writing file.  \"../models\\sales_analysis_model.pkl\"\n"
     ]
    }
   ],
   "source": [
    "final_model = rf_random.best_estimator_\n",
    "final_model.version = '1.0'\n",
    "final_model.pandas_version = pd.__version__\n",
    "final_model.numpy_version = np.__version__\n",
    "final_model.sklearn_version = sklearn_version\n",
    "final_model.build_datetime = datetime.datetime.now()\n",
    "\n",
    "# save the model\n",
    "\n",
    "modelpath = '../models'\n",
    "save_file(final_model, 'sales_analysis_model.pkl', modelpath)"
   ]
  },
  {
   "cell_type": "markdown",
   "id": "e9fe6417",
   "metadata": {},
   "source": [
    "## Summary and further analysis"
   ]
  },
  {
   "cell_type": "markdown",
   "id": "5ddf0913",
   "metadata": {},
   "source": [
    "- Regression models have simplified the complex historical data and generated the clear business insights."
   ]
  }
 ],
 "metadata": {
  "kernelspec": {
   "display_name": "Python 3",
   "language": "python",
   "name": "python3"
  },
  "language_info": {
   "codemirror_mode": {
    "name": "ipython",
    "version": 3
   },
   "file_extension": ".py",
   "mimetype": "text/x-python",
   "name": "python",
   "nbconvert_exporter": "python",
   "pygments_lexer": "ipython3",
   "version": "3.7.11"
  },
  "toc": {
   "base_numbering": 1,
   "nav_menu": {},
   "number_sections": true,
   "sideBar": true,
   "skip_h1_title": false,
   "title_cell": "Table of Contents",
   "title_sidebar": "Contents",
   "toc_cell": true,
   "toc_position": {},
   "toc_section_display": true,
   "toc_window_display": false
  }
 },
 "nbformat": 4,
 "nbformat_minor": 5
}
