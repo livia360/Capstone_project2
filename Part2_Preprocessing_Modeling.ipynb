{
 "cells": [
  {
   "cell_type": "markdown",
   "id": "bbf87bd2",
   "metadata": {
    "toc": true
   },
   "source": [
    "<h1>Table of Contents<span class=\"tocSkip\"></span></h1>\n",
    "<div class=\"toc\"><ul class=\"toc-item\"><li><span><a href=\"#Import-libraries-and-load-the-data\" data-toc-modified-id=\"Import-libraries-and-load-the-data-1\"><span class=\"toc-item-num\">1&nbsp;&nbsp;</span>Import libraries and load the data</a></span><ul class=\"toc-item\"><li><span><a href=\"#Train-and-Test-Splits\" data-toc-modified-id=\"Train-and-Test-Splits-1.1\"><span class=\"toc-item-num\">1.1&nbsp;&nbsp;</span>Train and Test Splits</a></span></li><li><span><a href=\"#1.2-Scaler\" data-toc-modified-id=\"1.2-Scaler-1.2\"><span class=\"toc-item-num\">1.2&nbsp;&nbsp;</span>1.2 Scaler</a></span></li></ul></li><li><span><a href=\"#2.-Modeling\" data-toc-modified-id=\"2.-Modeling-2\"><span class=\"toc-item-num\">2&nbsp;&nbsp;</span>2. Modeling</a></span><ul class=\"toc-item\"><li><span><a href=\"#Dummy-regressor\" data-toc-modified-id=\"Dummy-regressor-2.1\"><span class=\"toc-item-num\">2.1&nbsp;&nbsp;</span>Dummy regressor</a></span></li><li><span><a href=\"#OLS-regressor\" data-toc-modified-id=\"OLS-regressor-2.2\"><span class=\"toc-item-num\">2.2&nbsp;&nbsp;</span>OLS regressor</a></span><ul class=\"toc-item\"><li><span><a href=\"#Make-predictions-on-both-train-and-test-splits\" data-toc-modified-id=\"Make-predictions-on-both-train-and-test-splits-2.2.1\"><span class=\"toc-item-num\">2.2.1&nbsp;&nbsp;</span>Make predictions on both train and test splits</a></span></li><li><span><a href=\"#Assess-the-model-performance\" data-toc-modified-id=\"Assess-the-model-performance-2.2.2\"><span class=\"toc-item-num\">2.2.2&nbsp;&nbsp;</span>Assess the model performance</a></span></li><li><span><a href=\"#Hyperparameter-search-using-random-GridSearchCV\" data-toc-modified-id=\"Hyperparameter-search-using-random-GridSearchCV-2.2.3\"><span class=\"toc-item-num\">2.2.3&nbsp;&nbsp;</span>Hyperparameter search using random GridSearchCV</a></span></li></ul></li><li><span><a href=\"#Random-forest-regressor\" data-toc-modified-id=\"Random-forest-regressor-2.3\"><span class=\"toc-item-num\">2.3&nbsp;&nbsp;</span>Random forest regressor</a></span></li><li><span><a href=\"#Data-Quantity-Assessment\" data-toc-modified-id=\"Data-Quantity-Assessment-2.4\"><span class=\"toc-item-num\">2.4&nbsp;&nbsp;</span>Data Quantity Assessment</a></span></li><li><span><a href=\"#Save-Final-Model\" data-toc-modified-id=\"Save-Final-Model-2.5\"><span class=\"toc-item-num\">2.5&nbsp;&nbsp;</span>Save Final Model</a></span></li></ul></li><li><span><a href=\"#Summary-and-further-analysis\" data-toc-modified-id=\"Summary-and-further-analysis-3\"><span class=\"toc-item-num\">3&nbsp;&nbsp;</span>Summary and further analysis</a></span></li></ul></div>"
   ]
  },
  {
   "cell_type": "markdown",
   "id": "83361617",
   "metadata": {},
   "source": [
    "## Import libraries and load the data"
   ]
  },
  {
   "cell_type": "code",
   "execution_count": 1,
   "id": "8ec46345",
   "metadata": {},
   "outputs": [],
   "source": [
    "import pandas as pd\n",
    "import numpy as np\n",
    "import matplotlib.pyplot as plt\n",
    "import seaborn as sns\n",
    "import datetime\n",
    "\n",
    "from sklearn.preprocessing import StandardScaler\n",
    "from sklearn.model_selection import train_test_split, cross_validate, GridSearchCV, learning_curve, cross_val_score\n",
    "from sklearn.dummy import DummyRegressor\n",
    "from sklearn.linear_model import LinearRegression\n",
    "from sklearn.ensemble import RandomForestRegressor\n",
    "from sklearn.metrics import r2_score, mean_squared_error, mean_absolute_error\n",
    "\n",
    "from sklearn.pipeline import make_pipeline\n",
    "from sklearn.impute import SimpleImputer\n",
    "from sklearn.feature_selection import SelectKBest, f_regression\n",
    "\n",
    "from sklearn import __version__ as sklearn_version\n",
    "from library.sb_utils import save_file\n",
    "%matplotlib inline\n",
    "\n",
    "sns.set_style('whitegrid') \n",
    "# plt.style.use('ggplot')\n",
    "import warnings\n",
    "warnings.filterwarnings(\"ignore\")"
   ]
  },
  {
   "cell_type": "code",
   "execution_count": 2,
   "id": "9d66451b",
   "metadata": {},
   "outputs": [
    {
     "data": {
      "text/html": [
       "<div>\n",
       "<style scoped>\n",
       "    .dataframe tbody tr th:only-of-type {\n",
       "        vertical-align: middle;\n",
       "    }\n",
       "\n",
       "    .dataframe tbody tr th {\n",
       "        vertical-align: top;\n",
       "    }\n",
       "\n",
       "    .dataframe thead th {\n",
       "        text-align: right;\n",
       "    }\n",
       "</style>\n",
       "<table border=\"1\" class=\"dataframe\">\n",
       "  <thead>\n",
       "    <tr style=\"text-align: right;\">\n",
       "      <th></th>\n",
       "      <th>State</th>\n",
       "      <th>avg_sales_state</th>\n",
       "      <th>avg_profit_state</th>\n",
       "      <th>avg_discount_state</th>\n",
       "      <th>avg_wating_days_state</th>\n",
       "      <th>Same_day_ratio</th>\n",
       "      <th>First Class_ratio</th>\n",
       "      <th>Second Class_ratio</th>\n",
       "      <th>Standard Class_ratio</th>\n",
       "      <th>Consumer_ratio</th>\n",
       "      <th>Corporate_ratio</th>\n",
       "      <th>Home_Office_ratio</th>\n",
       "      <th>Furniture_ratio</th>\n",
       "      <th>Office_Supplies_ratio</th>\n",
       "      <th>Technology_ratio</th>\n",
       "    </tr>\n",
       "  </thead>\n",
       "  <tbody>\n",
       "    <tr>\n",
       "      <th>0</th>\n",
       "      <td>Alabama</td>\n",
       "      <td>66.611429</td>\n",
       "      <td>14.281307</td>\n",
       "      <td>0.000000</td>\n",
       "      <td>4.261905</td>\n",
       "      <td>0.116445</td>\n",
       "      <td>0.416064</td>\n",
       "      <td>0.215359</td>\n",
       "      <td>0.252132</td>\n",
       "      <td>0.256243</td>\n",
       "      <td>0.460118</td>\n",
       "      <td>0.283639</td>\n",
       "      <td>0.429349</td>\n",
       "      <td>0.215643</td>\n",
       "      <td>0.355008</td>\n",
       "    </tr>\n",
       "    <tr>\n",
       "      <th>1</th>\n",
       "      <td>Arizona</td>\n",
       "      <td>66.156417</td>\n",
       "      <td>5.874764</td>\n",
       "      <td>0.282143</td>\n",
       "      <td>4.130952</td>\n",
       "      <td>0.254247</td>\n",
       "      <td>0.248846</td>\n",
       "      <td>0.295348</td>\n",
       "      <td>0.201559</td>\n",
       "      <td>0.254331</td>\n",
       "      <td>0.373099</td>\n",
       "      <td>0.372570</td>\n",
       "      <td>0.418223</td>\n",
       "      <td>0.131438</td>\n",
       "      <td>0.450339</td>\n",
       "    </tr>\n",
       "    <tr>\n",
       "      <th>2</th>\n",
       "      <td>Arkansas</td>\n",
       "      <td>48.697368</td>\n",
       "      <td>12.927255</td>\n",
       "      <td>0.000000</td>\n",
       "      <td>4.184211</td>\n",
       "      <td>0.053466</td>\n",
       "      <td>0.216560</td>\n",
       "      <td>0.484328</td>\n",
       "      <td>0.245646</td>\n",
       "      <td>0.290320</td>\n",
       "      <td>0.461725</td>\n",
       "      <td>0.247956</td>\n",
       "      <td>0.568611</td>\n",
       "      <td>0.212633</td>\n",
       "      <td>0.218756</td>\n",
       "    </tr>\n",
       "    <tr>\n",
       "      <th>3</th>\n",
       "      <td>California</td>\n",
       "      <td>74.152678</td>\n",
       "      <td>12.952794</td>\n",
       "      <td>0.065100</td>\n",
       "      <td>3.878159</td>\n",
       "      <td>0.236860</td>\n",
       "      <td>0.243677</td>\n",
       "      <td>0.254673</td>\n",
       "      <td>0.264791</td>\n",
       "      <td>0.358729</td>\n",
       "      <td>0.370454</td>\n",
       "      <td>0.270817</td>\n",
       "      <td>0.430691</td>\n",
       "      <td>0.136498</td>\n",
       "      <td>0.432811</td>\n",
       "    </tr>\n",
       "    <tr>\n",
       "      <th>4</th>\n",
       "      <td>Colorado</td>\n",
       "      <td>54.639008</td>\n",
       "      <td>3.092148</td>\n",
       "      <td>0.294697</td>\n",
       "      <td>3.704545</td>\n",
       "      <td>0.290164</td>\n",
       "      <td>0.305009</td>\n",
       "      <td>0.179276</td>\n",
       "      <td>0.225550</td>\n",
       "      <td>0.365419</td>\n",
       "      <td>0.354759</td>\n",
       "      <td>0.279823</td>\n",
       "      <td>0.289397</td>\n",
       "      <td>0.139808</td>\n",
       "      <td>0.570795</td>\n",
       "    </tr>\n",
       "  </tbody>\n",
       "</table>\n",
       "</div>"
      ],
      "text/plain": [
       "        State  avg_sales_state  avg_profit_state  avg_discount_state  \\\n",
       "0     Alabama        66.611429         14.281307            0.000000   \n",
       "1     Arizona        66.156417          5.874764            0.282143   \n",
       "2    Arkansas        48.697368         12.927255            0.000000   \n",
       "3  California        74.152678         12.952794            0.065100   \n",
       "4    Colorado        54.639008          3.092148            0.294697   \n",
       "\n",
       "   avg_wating_days_state  Same_day_ratio  First Class_ratio  \\\n",
       "0               4.261905        0.116445           0.416064   \n",
       "1               4.130952        0.254247           0.248846   \n",
       "2               4.184211        0.053466           0.216560   \n",
       "3               3.878159        0.236860           0.243677   \n",
       "4               3.704545        0.290164           0.305009   \n",
       "\n",
       "   Second Class_ratio  Standard Class_ratio  Consumer_ratio  Corporate_ratio  \\\n",
       "0            0.215359              0.252132        0.256243         0.460118   \n",
       "1            0.295348              0.201559        0.254331         0.373099   \n",
       "2            0.484328              0.245646        0.290320         0.461725   \n",
       "3            0.254673              0.264791        0.358729         0.370454   \n",
       "4            0.179276              0.225550        0.365419         0.354759   \n",
       "\n",
       "   Home_Office_ratio  Furniture_ratio  Office_Supplies_ratio  Technology_ratio  \n",
       "0           0.283639         0.429349               0.215643          0.355008  \n",
       "1           0.372570         0.418223               0.131438          0.450339  \n",
       "2           0.247956         0.568611               0.212633          0.218756  \n",
       "3           0.270817         0.430691               0.136498          0.432811  \n",
       "4           0.279823         0.289397               0.139808          0.570795  "
      ]
     },
     "execution_count": 2,
     "metadata": {},
     "output_type": "execute_result"
    }
   ],
   "source": [
    "df = pd.read_csv('./Data/all_sales_summary.csv')\n",
    "df.head()"
   ]
  },
  {
   "cell_type": "code",
   "execution_count": 3,
   "id": "fdfdc20a",
   "metadata": {},
   "outputs": [
    {
     "name": "stdout",
     "output_type": "stream",
     "text": [
      "(48, 15)\n",
      "<class 'pandas.core.frame.DataFrame'>\n",
      "RangeIndex: 48 entries, 0 to 47\n",
      "Data columns (total 15 columns):\n",
      " #   Column                 Non-Null Count  Dtype  \n",
      "---  ------                 --------------  -----  \n",
      " 0   State                  48 non-null     object \n",
      " 1   avg_sales_state        48 non-null     float64\n",
      " 2   avg_profit_state       48 non-null     float64\n",
      " 3   avg_discount_state     48 non-null     float64\n",
      " 4   avg_wating_days_state  48 non-null     float64\n",
      " 5   Same_day_ratio         48 non-null     float64\n",
      " 6   First Class_ratio      48 non-null     float64\n",
      " 7   Second Class_ratio     48 non-null     float64\n",
      " 8   Standard Class_ratio   48 non-null     float64\n",
      " 9   Consumer_ratio         48 non-null     float64\n",
      " 10  Corporate_ratio        48 non-null     float64\n",
      " 11  Home_Office_ratio      48 non-null     float64\n",
      " 12  Furniture_ratio        48 non-null     float64\n",
      " 13  Office_Supplies_ratio  48 non-null     float64\n",
      " 14  Technology_ratio       48 non-null     float64\n",
      "dtypes: float64(14), object(1)\n",
      "memory usage: 5.8+ KB\n"
     ]
    },
    {
     "data": {
      "text/plain": [
       "Index(['State', 'avg_sales_state', 'avg_profit_state', 'avg_discount_state',\n",
       "       'avg_wating_days_state', 'Same_day_ratio', 'First Class_ratio',\n",
       "       'Second Class_ratio', 'Standard Class_ratio', 'Consumer_ratio',\n",
       "       'Corporate_ratio', 'Home_Office_ratio', 'Furniture_ratio',\n",
       "       'Office_Supplies_ratio', 'Technology_ratio'],\n",
       "      dtype='object')"
      ]
     },
     "execution_count": 3,
     "metadata": {},
     "output_type": "execute_result"
    }
   ],
   "source": [
    "print(df.shape)\n",
    "df.info()\n",
    "df.columns"
   ]
  },
  {
   "cell_type": "markdown",
   "id": "49f7809b",
   "metadata": {},
   "source": [
    "### Train and Test Splits"
   ]
  },
  {
   "cell_type": "markdown",
   "id": "fd8ac572",
   "metadata": {},
   "source": [
    "In order to fit the models on the data, I first define the ‘X’ variable (independent variable) and the ‘Y’ variable (dependent variable). After defining the variables, split the data into a train set and test set using the ‘train_test_split’ function by scikit-learn. "
   ]
  },
  {
   "cell_type": "code",
   "execution_count": 4,
   "id": "6e6638ac",
   "metadata": {},
   "outputs": [],
   "source": [
    "# to avoid multi-colinearity, drop columns 'Same_day_ratio', 'Consumer_ratio','Furniture_ratio'\n",
    "Target = ['avg_profit_state']\n",
    "Features = ['avg_sales_state',  'avg_discount_state',\n",
    "       'avg_wating_days_state', 'First Class_ratio',\n",
    "       'Second Class_ratio', 'Standard Class_ratio', \n",
    "       'Corporate_ratio', 'Home_Office_ratio', \n",
    "       'Office_Supplies_ratio', 'Technology_ratio']\n",
    "X = df[Features]\n",
    "y = df[Target]"
   ]
  },
  {
   "cell_type": "code",
   "execution_count": 5,
   "id": "75433b68",
   "metadata": {},
   "outputs": [
    {
     "name": "stdout",
     "output_type": "stream",
     "text": [
      "(33, 10) (15, 10)\n"
     ]
    }
   ],
   "source": [
    "X_train, X_test, y_train, y_test = train_test_split(X, y, test_size=0.3, random_state=42)  \n",
    "print(X_train.shape, X_test.shape)\n",
    "train_columns = X_train.columns"
   ]
  },
  {
   "cell_type": "code",
   "execution_count": 6,
   "id": "0c7439da",
   "metadata": {},
   "outputs": [
    {
     "data": {
      "text/plain": [
       "Index(['avg_sales_state', 'avg_discount_state', 'avg_wating_days_state',\n",
       "       'First Class_ratio', 'Second Class_ratio', 'Standard Class_ratio',\n",
       "       'Corporate_ratio', 'Home_Office_ratio', 'Office_Supplies_ratio',\n",
       "       'Technology_ratio'],\n",
       "      dtype='object')"
      ]
     },
     "execution_count": 6,
     "metadata": {},
     "output_type": "execute_result"
    }
   ],
   "source": [
    "train_columns"
   ]
  },
  {
   "cell_type": "markdown",
   "id": "cbd17e38",
   "metadata": {},
   "source": [
    "### 1.2 Scaler"
   ]
  },
  {
   "cell_type": "code",
   "execution_count": 7,
   "id": "0bfa4f63",
   "metadata": {},
   "outputs": [],
   "source": [
    "#Call StandardScaler method on `X_tr` to fit the scaler;\n",
    "# use `transform()` method to apply the scaling to both the train and test split.\n",
    "scaler = StandardScaler()\n",
    "X_train = scaler.fit_transform(X_train)\n",
    "X_test = scaler.transform(X_test)"
   ]
  },
  {
   "cell_type": "markdown",
   "id": "1dd24128",
   "metadata": {},
   "source": [
    "## 2. Modeling"
   ]
  },
  {
   "cell_type": "markdown",
   "id": "67d47174",
   "metadata": {},
   "source": [
    "To build and train five different types of linear regression models:\n",
    "    - OLS model\n",
    "    - Lasso regression model\n",
    "    - Ridge regression model\n",
    "    - Elastic Net regression model\n",
    "    - Random forest regression model\n",
    "    \n",
    "    The linear regression model assumes a linear relationship between the input and output variables. If this relationship is present, we use Pearson correlation coefficients to measure the direction and strength of the linear relationship between two variables, and use evaluation metrics such as mean square error to measure the predictive power of the linear regression model. "
   ]
  },
  {
   "cell_type": "markdown",
   "id": "3575f04f",
   "metadata": {},
   "source": [
    "### Dummy regressor"
   ]
  },
  {
   "cell_type": "code",
   "execution_count": 8,
   "id": "68398ad7",
   "metadata": {},
   "outputs": [
    {
     "data": {
      "text/plain": [
       "avg_profit_state    12.822677\n",
       "dtype: float64"
      ]
     },
     "execution_count": 8,
     "metadata": {},
     "output_type": "execute_result"
    }
   ],
   "source": [
    "train_mean = y_train.mean()\n",
    "train_mean"
   ]
  },
  {
   "cell_type": "code",
   "execution_count": 9,
   "id": "cbe2291f",
   "metadata": {},
   "outputs": [
    {
     "data": {
      "text/plain": [
       "array([[12.82267725]])"
      ]
     },
     "execution_count": 9,
     "metadata": {},
     "output_type": "execute_result"
    }
   ],
   "source": [
    "# Fit the skilearn dummy regressor on the training data\n",
    "dumb_reg = DummyRegressor(strategy='mean')\n",
    "dumb_reg.fit(X_train, y_train)\n",
    "dumb_reg.constant_"
   ]
  },
  {
   "cell_type": "markdown",
   "id": "2574a471",
   "metadata": {},
   "source": [
    "### Linear regression"
   ]
  },
  {
   "cell_type": "code",
   "execution_count": 10,
   "id": "dbe9fcc0",
   "metadata": {
    "scrolled": true
   },
   "outputs": [],
   "source": [
    "# Create the model\n",
    "Model_1 = linear_model.LinearRegression() \n",
    "lm = LinearRegression().fit(X_train, y_train)"
   ]
  },
  {
   "cell_type": "markdown",
   "id": "febfda3d",
   "metadata": {},
   "source": [
    "#### Make predictions on both train and test splits"
   ]
  },
  {
   "cell_type": "code",
   "execution_count": 11,
   "id": "ddb7d3af",
   "metadata": {},
   "outputs": [],
   "source": [
    "y_train_pred = lm.predict(X_train)\n",
    "y_test_pred = lm.predict(X_test)"
   ]
  },
  {
   "cell_type": "markdown",
   "id": "7279db0c",
   "metadata": {},
   "source": [
    "#### Assess the model performance\n",
    "\n",
    "R^2 is a common metric, and interpretable in terms of the amount of variance explained, it's less appealing if you want an idea of how \"close\" your predictions are to the true values.\n",
    "Metrics that summarize the difference between predicted and actual values are _mean absolute error_ and _mean squared error_."
   ]
  },
  {
   "cell_type": "code",
   "execution_count": 12,
   "id": "bebf5b5d",
   "metadata": {
    "scrolled": true
   },
   "outputs": [
    {
     "data": {
      "text/plain": [
       "(0.9080984945455154, 0.8318443434283349)"
      ]
     },
     "execution_count": 12,
     "metadata": {},
     "output_type": "execute_result"
    }
   ],
   "source": [
    "# r2\n",
    "lm_r2_score = r2_score(y_train, y_train_pred), r2_score(y_test, y_test_pred)\n",
    "lm_r2_score"
   ]
  },
  {
   "cell_type": "markdown",
   "id": "2d6d093d",
   "metadata": {},
   "source": [
    " - 𝑅2  tells us how much of the variance we're explaining beyond that of using the mean. we see that the simple linear regression model explains over 91% of the variance on the train set and over 83% on the test set."
   ]
  },
  {
   "cell_type": "code",
   "execution_count": 13,
   "id": "978aaacb",
   "metadata": {},
   "outputs": [
    {
     "data": {
      "text/plain": [
       "(0.9561436603928959, 1.406043040754563)"
      ]
     },
     "execution_count": 13,
     "metadata": {},
     "output_type": "execute_result"
    }
   ],
   "source": [
    "# mae\n",
    "lm_mae = mean_absolute_error(y_train, y_train_pred), mean_absolute_error(y_test, y_test_pred)\n",
    "lm_mae"
   ]
  },
  {
   "cell_type": "markdown",
   "id": "97a81320",
   "metadata": {},
   "source": [
    "- On average we expect to estimate a profit within \\\\$0.96 to \\\\$1.4 of the real price. This is much, much better than the \\\\$12 from just guessing using the average."
   ]
  },
  {
   "cell_type": "code",
   "execution_count": 14,
   "id": "d6dbf45f",
   "metadata": {},
   "outputs": [
    {
     "data": {
      "text/plain": [
       "(1.4132335138381698, 2.0622606798963523)"
      ]
     },
     "execution_count": 14,
     "metadata": {},
     "output_type": "execute_result"
    }
   ],
   "source": [
    "# rmse\n",
    "lm_rmse = np.sqrt(mean_squared_error(y_train, y_train_pred)), np.sqrt(mean_squared_error(y_test, y_test_pred))\n",
    "lm_rmse"
   ]
  },
  {
   "cell_type": "markdown",
   "id": "de2567f8",
   "metadata": {},
   "source": [
    "#### Hyperparameter search using random GridSearchCV"
   ]
  },
  {
   "cell_type": "code",
   "execution_count": 15,
   "id": "e9a3cadf",
   "metadata": {},
   "outputs": [],
   "source": [
    "pipe = make_pipeline(    \n",
    "    StandardScaler(), # SimpleImputer(strategy='median'), \n",
    "    SelectKBest(f_regression),\n",
    "    LinearRegression()\n",
    ")"
   ]
  },
  {
   "cell_type": "code",
   "execution_count": 16,
   "id": "c89ac545",
   "metadata": {},
   "outputs": [],
   "source": [
    "pipe = make_pipeline(    \n",
    "    StandardScaler(), # SimpleImputer(strategy='median'), \n",
    "    SelectKBest(f_regression),\n",
    "    LinearRegression()\n",
    ")"
   ]
  },
  {
   "cell_type": "code",
   "execution_count": 17,
   "id": "db97a650",
   "metadata": {},
   "outputs": [],
   "source": [
    "lr_grid_cv = GridSearchCV(pipe, param_grid=grid_params, cv=5, n_jobs=-1)"
   ]
  },
  {
   "cell_type": "code",
   "execution_count": 18,
   "id": "48fa38d4",
   "metadata": {},
   "outputs": [
    {
     "data": {
      "text/plain": [
       "GridSearchCV(cv=5,\n",
       "             estimator=Pipeline(steps=[('standardscaler', StandardScaler()),\n",
       "                                       ('selectkbest',\n",
       "                                        SelectKBest(score_func=<function f_regression at 0x00000179A6C82D38>)),\n",
       "                                       ('linearregression',\n",
       "                                        LinearRegression())]),\n",
       "             n_jobs=-1,\n",
       "             param_grid={'selectkbest__k': [1, 2, 3, 4, 5, 6, 7, 8, 9, 10]})"
      ]
     },
     "execution_count": 18,
     "metadata": {},
     "output_type": "execute_result"
    }
   ],
   "source": [
    "lr_grid_cv.fit(X_train, y_train)"
   ]
  },
  {
   "cell_type": "code",
   "execution_count": 19,
   "id": "22406098",
   "metadata": {},
   "outputs": [
    {
     "data": {
      "text/plain": [
       "{'mean_fit_time': array([0.0392611 , 0.03921137, 0.01741772, 0.00859871, 0.00717869,\n",
       "        0.00766444, 0.00592504, 0.0061512 , 0.00536337, 0.00588336]),\n",
       " 'std_fit_time': array([0.01714401, 0.02463528, 0.00389907, 0.00050412, 0.00073332,\n",
       "        0.00119919, 0.00071005, 0.00178873, 0.00046223, 0.00084443]),\n",
       " 'mean_score_time': array([0.00297723, 0.0028172 , 0.00774202, 0.00316796, 0.00210071,\n",
       "        0.00216718, 0.00233345, 0.00206523, 0.00159488, 0.00136428]),\n",
       " 'std_score_time': array([2.88971186e-05, 4.12477879e-04, 8.14806430e-03, 9.57634364e-04,\n",
       "        7.10711444e-04, 3.28483057e-04, 4.20983413e-04, 3.51701764e-04,\n",
       "        4.88500681e-04, 5.44651626e-04]),\n",
       " 'param_selectkbest__k': masked_array(data=[1, 2, 3, 4, 5, 6, 7, 8, 9, 10],\n",
       "              mask=[False, False, False, False, False, False, False, False,\n",
       "                    False, False],\n",
       "        fill_value='?',\n",
       "             dtype=object),\n",
       " 'params': [{'selectkbest__k': 1},\n",
       "  {'selectkbest__k': 2},\n",
       "  {'selectkbest__k': 3},\n",
       "  {'selectkbest__k': 4},\n",
       "  {'selectkbest__k': 5},\n",
       "  {'selectkbest__k': 6},\n",
       "  {'selectkbest__k': 7},\n",
       "  {'selectkbest__k': 8},\n",
       "  {'selectkbest__k': 9},\n",
       "  {'selectkbest__k': 10}],\n",
       " 'split0_test_score': array([ 0.39954554,  0.29052988,  0.28146696,  0.36431823,  0.41468127,\n",
       "         0.26785387, -0.05337389,  0.51183722,  0.46023842,  0.21193786]),\n",
       " 'split1_test_score': array([0.74271712, 0.71958278, 0.49381747, 0.0652608 , 0.0393708 ,\n",
       "        0.1626514 , 0.24300581, 0.40721779, 0.40719002, 0.30834917]),\n",
       " 'split2_test_score': array([0.89485716, 0.88474844, 0.92744967, 0.91512876, 0.91030442,\n",
       "        0.95608956, 0.95550781, 0.95491225, 0.95482435, 0.96387988]),\n",
       " 'split3_test_score': array([0.8751841 , 0.81925378, 0.82276425, 0.82404331, 0.82561296,\n",
       "        0.85556076, 0.85732497, 0.86723745, 0.86980312, 0.88886263]),\n",
       " 'split4_test_score': array([-0.436091  , -1.13743649, -1.93021624, -2.18185068, -1.62809374,\n",
       "        -1.48790567, -1.83259398, -1.77760994, -1.8640702 , -1.8445714 ]),\n",
       " 'mean_test_score': array([ 0.49524259,  0.31533568,  0.11905642, -0.00261992,  0.11237514,\n",
       "         0.15084998,  0.03397415,  0.19271895,  0.16559714,  0.10569163]),\n",
       " 'std_test_score': array([0.49836356, 0.75534659, 1.05024243, 1.13260168, 0.92426726,\n",
       "        0.87685544, 1.0062337 , 1.00657399, 1.03764307, 1.02036543]),\n",
       " 'rank_test_score': array([ 1,  2,  6, 10,  7,  5,  9,  3,  4,  8])}"
      ]
     },
     "execution_count": 19,
     "metadata": {},
     "output_type": "execute_result"
    }
   ],
   "source": [
    "lr_grid_cv.cv_results_"
   ]
  },
  {
   "cell_type": "code",
   "execution_count": 20,
   "id": "1c2e5c8d",
   "metadata": {},
   "outputs": [],
   "source": [
    "score_mean = lr_grid_cv.cv_results_['mean_test_score']\n",
    "score_std = lr_grid_cv.cv_results_['std_test_score']\n",
    "cv_best_k = [k for k in lr_grid_cv.cv_results_['param_selectkbest__k']]"
   ]
  },
  {
   "cell_type": "code",
   "execution_count": 21,
   "id": "fe66c067",
   "metadata": {},
   "outputs": [
    {
     "data": {
      "text/plain": [
       "{'selectkbest__k': 1}"
      ]
     },
     "execution_count": 21,
     "metadata": {},
     "output_type": "execute_result"
    }
   ],
   "source": [
    "lr_grid_cv.best_params_"
   ]
  },
  {
   "cell_type": "code",
   "execution_count": 22,
   "id": "9ae5a7b0",
   "metadata": {
    "scrolled": true
   },
   "outputs": [
    {
     "data": {
      "image/png": "[encoded data removed]",
      "text/plain": [
       "<Figure size 720x360 with 1 Axes>"
      ]
     },
     "metadata": {},
     "output_type": "display_data"
    }
   ],
   "source": [
    "best_k = lr_grid_cv.best_params_['selectkbest__k']\n",
    "plt.subplots(figsize=(10, 5))\n",
    "plt.errorbar(cv_best_k, score_mean, yerr=score_std)\n",
    "plt.axvline(x=best_k, c='r', ls='--', alpha=.5)\n",
    "plt.xlabel('k')\n",
    "plt.ylabel('CV score (r-squared)')\n",
    "plt.title('Pipeline mean CV score (error bars +/- 1sd)');"
   ]
  },
  {
   "cell_type": "code",
   "execution_count": 23,
   "id": "7cec188a",
   "metadata": {},
   "outputs": [
    {
     "data": {
      "text/plain": [
       "array([False,  True, False, False, False, False, False, False, False,\n",
       "       False])"
      ]
     },
     "execution_count": 23,
     "metadata": {},
     "output_type": "execute_result"
    }
   ],
   "source": [
    "selected = lr_grid_cv.best_estimator_.named_steps.selectkbest.get_support()\n",
    "selected"
   ]
  },
  {
   "cell_type": "code",
   "execution_count": 24,
   "id": "ecc7b658",
   "metadata": {},
   "outputs": [],
   "source": [
    "features = train_columns[selected]"
   ]
  },
  {
   "cell_type": "code",
   "execution_count": 25,
   "id": "6d21bddd",
   "metadata": {},
   "outputs": [
    {
     "data": {
      "text/plain": [
       "array([[-4.15216319]])"
      ]
     },
     "execution_count": 25,
     "metadata": {},
     "output_type": "execute_result"
    }
   ],
   "source": [
    "coefs = lr_grid_cv.best_estimator_.named_steps.linearregression.coef_\n",
    "coefs"
   ]
  },
  {
   "cell_type": "code",
   "execution_count": 26,
   "id": "cec7f611",
   "metadata": {},
   "outputs": [
    {
     "data": {
      "text/plain": [
       "avg_discount_state   -4.152163\n",
       "dtype: float64"
      ]
     },
     "execution_count": 26,
     "metadata": {},
     "output_type": "execute_result"
    }
   ],
   "source": [
    "pd.Series(coefs[0], index=features)"
   ]
  },
  {
   "cell_type": "code",
   "execution_count": 45,
   "id": "88742b8d",
   "metadata": {},
   "outputs": [],
   "source": [
    "pipe_new = make_pipeline(\n",
    "    SimpleImputer(strategy='median'), \n",
    "    StandardScaler(),\n",
    "    SelectKBest(f_regression, k=1),\n",
    "    LinearRegression()\n",
    ")"
   ]
  },
  {
   "cell_type": "code",
   "execution_count": 46,
   "id": "2614c7d0",
   "metadata": {},
   "outputs": [
    {
     "data": {
      "text/plain": [
       "Pipeline(steps=[('simpleimputer', SimpleImputer(strategy='median')),\n",
       "                ('standardscaler', StandardScaler()),\n",
       "                ('selectkbest',\n",
       "                 SelectKBest(k=1,\n",
       "                             score_func=<function f_regression at 0x00000179A6C82D38>)),\n",
       "                ('linearregression', LinearRegression())])"
      ]
     },
     "execution_count": 46,
     "metadata": {},
     "output_type": "execute_result"
    }
   ],
   "source": [
    "pipe_new.fit(X_train, y_train)"
   ]
  },
  {
   "cell_type": "code",
   "execution_count": 47,
   "id": "542ece8c",
   "metadata": {},
   "outputs": [],
   "source": [
    "y_tr_pred = pipe_new.predict(X_train)\n",
    "y_te_pred = pipe_new.predict(X_test)"
   ]
  },
  {
   "cell_type": "code",
   "execution_count": 48,
   "id": "e6ed966f",
   "metadata": {},
   "outputs": [
    {
     "data": {
      "text/plain": [
       "(0.7933112208349455, 0.8701692839028163)"
      ]
     },
     "execution_count": 48,
     "metadata": {},
     "output_type": "execute_result"
    }
   ],
   "source": [
    "r2_score(y_train, y_tr_pred), r2_score(y_test, y_te_pred)"
   ]
  },
  {
   "cell_type": "code",
   "execution_count": 49,
   "id": "c9e8d49e",
   "metadata": {},
   "outputs": [
    {
     "data": {
      "text/plain": [
       "(1.5550534112056853, 1.3724914622315285)"
      ]
     },
     "execution_count": 49,
     "metadata": {},
     "output_type": "execute_result"
    }
   ],
   "source": [
    "mean_absolute_error(y_train, y_tr_pred), mean_absolute_error(y_test, y_te_pred)"
   ]
  },
  {
   "cell_type": "code",
   "execution_count": null,
   "id": "2b69f223",
   "metadata": {},
   "outputs": [],
   "source": []
  },
  {
   "cell_type": "markdown",
   "id": "c5399f90",
   "metadata": {},
   "source": [
    "### Random forest regressor"
   ]
  },
  {
   "cell_type": "code",
   "execution_count": 32,
   "id": "fe12e8f9",
   "metadata": {},
   "outputs": [],
   "source": [
    "# pipeline\n",
    "rf_pipe = make_pipeline(   \n",
    "    StandardScaler(), #SimpleImputer(strategy='median'),\n",
    "    RandomForestRegressor(random_state=42)\n",
    ")"
   ]
  },
  {
   "cell_type": "code",
   "execution_count": 36,
   "id": "a93f8725",
   "metadata": {},
   "outputs": [
    {
     "data": {
      "text/plain": [
       "{'fit_time': array([0.14576173, 0.07994628, 0.07692432, 0.07670307, 0.0799334 ]),\n",
       " 'score_time': array([0.00897026, 0.00598407, 0.00594425, 0.00595093, 0.00597882]),\n",
       " 'test_score': array([ 0.41286212,  0.67123477,  0.89569581,  0.79267699, -0.15046356])}"
      ]
     },
     "execution_count": 36,
     "metadata": {},
     "output_type": "execute_result"
    }
   ],
   "source": [
    "rf_cv_results = cross_validate(rf_pipe, X_train, y_train, cv=5)\n",
    "rf_cv_results"
   ]
  },
  {
   "cell_type": "code",
   "execution_count": 44,
   "id": "cc72d9c3",
   "metadata": {},
   "outputs": [
    {
     "data": {
      "text/plain": [
       "(0.524401223895922, 0.37397195013054757)"
      ]
     },
     "execution_count": 44,
     "metadata": {},
     "output_type": "execute_result"
    }
   ],
   "source": [
    "np.mean(rf_cv_results['test_score']), np.std(rf_cv_results['test_score'])"
   ]
  },
  {
   "cell_type": "code",
   "execution_count": null,
   "id": "4fe60b7c",
   "metadata": {},
   "outputs": [],
   "source": []
  },
  {
   "cell_type": "code",
   "execution_count": null,
   "id": "a69d09dc",
   "metadata": {},
   "outputs": [],
   "source": []
  },
  {
   "cell_type": "code",
   "execution_count": null,
   "id": "c213e420",
   "metadata": {},
   "outputs": [],
   "source": []
  },
  {
   "cell_type": "code",
   "execution_count": null,
   "id": "cf7d506c",
   "metadata": {},
   "outputs": [],
   "source": []
  },
  {
   "cell_type": "markdown",
   "id": "555f9a9b",
   "metadata": {},
   "source": [
    "### Data Quantity Assessment"
   ]
  },
  {
   "cell_type": "code",
   "execution_count": 28,
   "id": "a95831d4",
   "metadata": {},
   "outputs": [],
   "source": [
    "# Would more data be useful?  Assess this trade off by seeing how performance varies with differing data set sizes.\n",
    "fractions = [.2, .25, .3, .35, .4, .45, .5, .6, .75, .8, 1.0]\n",
    "train_size, train_scores, test_scores = learning_curve(RF_pipe, X_train, y_train, train_sizes=fractions)\n",
    "train_scores_mean = np.mean(train_scores, axis=1)\n",
    "train_scores_std = np.std(train_scores, axis=1)\n",
    "test_scores_mean = np.mean(test_scores, axis=1)\n",
    "test_scores_std = np.std(test_scores, axis=1)"
   ]
  },
  {
   "cell_type": "code",
   "execution_count": 29,
   "id": "263542b4",
   "metadata": {},
   "outputs": [
    {
     "data": {
      "image/png": "[encoded data removed]",
      "text/plain": [
       "<Figure size 720x360 with 1 Axes>"
      ]
     },
     "metadata": {},
     "output_type": "display_data"
    }
   ],
   "source": [
    "plt.subplots(figsize=(10, 5))\n",
    "plt.errorbar(train_size, test_scores_mean, yerr=test_scores_std)\n",
    "plt.xlabel('Training set size')\n",
    "plt.ylabel('CV scores')\n",
    "plt.title('Cross-validation score as training set size increases');"
   ]
  },
  {
   "cell_type": "markdown",
   "id": "1bda438c",
   "metadata": {},
   "source": [
    "There's an initial rapid improvement in model scores as one would expect, but it's essentially levelled off by around a sample size of 500-600.  This shows that we seem to have plenty of data. "
   ]
  },
  {
   "cell_type": "markdown",
   "id": "9c8e4d49",
   "metadata": {},
   "source": [
    "### Save Final Model"
   ]
  },
  {
   "cell_type": "code",
   "execution_count": 30,
   "id": "86d84e51",
   "metadata": {},
   "outputs": [
    {
     "ename": "NameError",
     "evalue": "name 'rf_grid_cv' is not defined",
     "output_type": "error",
     "traceback": [
      "\u001b[1;31m---------------------------------------------------------------------------\u001b[0m",
      "\u001b[1;31mNameError\u001b[0m                                 Traceback (most recent call last)",
      "\u001b[1;32m<ipython-input-30-7f6d4c444525>\u001b[0m in \u001b[0;36m<module>\u001b[1;34m\u001b[0m\n\u001b[1;32m----> 1\u001b[1;33m \u001b[0mfinal_model\u001b[0m \u001b[1;33m=\u001b[0m \u001b[0mrf_grid_cv\u001b[0m\u001b[1;33m.\u001b[0m\u001b[0mbest_estimator_\u001b[0m\u001b[1;33m\u001b[0m\u001b[1;33m\u001b[0m\u001b[0m\n\u001b[0m\u001b[0;32m      2\u001b[0m \u001b[0mfinal_model\u001b[0m\u001b[1;33m.\u001b[0m\u001b[0mversion\u001b[0m \u001b[1;33m=\u001b[0m \u001b[1;34m'1.0'\u001b[0m\u001b[1;33m\u001b[0m\u001b[1;33m\u001b[0m\u001b[0m\n\u001b[0;32m      3\u001b[0m \u001b[0mfinal_model\u001b[0m\u001b[1;33m.\u001b[0m\u001b[0mpandas_version\u001b[0m \u001b[1;33m=\u001b[0m \u001b[0mpd\u001b[0m\u001b[1;33m.\u001b[0m\u001b[0m__version__\u001b[0m\u001b[1;33m\u001b[0m\u001b[1;33m\u001b[0m\u001b[0m\n\u001b[0;32m      4\u001b[0m \u001b[0mfinal_model\u001b[0m\u001b[1;33m.\u001b[0m\u001b[0mnumpy_version\u001b[0m \u001b[1;33m=\u001b[0m \u001b[0mnp\u001b[0m\u001b[1;33m.\u001b[0m\u001b[0m__version__\u001b[0m\u001b[1;33m\u001b[0m\u001b[1;33m\u001b[0m\u001b[0m\n\u001b[0;32m      5\u001b[0m \u001b[0mfinal_model\u001b[0m\u001b[1;33m.\u001b[0m\u001b[0msklearn_version\u001b[0m \u001b[1;33m=\u001b[0m \u001b[0msklearn_version\u001b[0m\u001b[1;33m\u001b[0m\u001b[1;33m\u001b[0m\u001b[0m\n",
      "\u001b[1;31mNameError\u001b[0m: name 'rf_grid_cv' is not defined"
     ]
    }
   ],
   "source": [
    "final_model = rf_grid_cv.best_estimator_\n",
    "final_model.version = '1.0'\n",
    "final_model.pandas_version = pd.__version__\n",
    "final_model.numpy_version = np.__version__\n",
    "final_model.sklearn_version = sklearn_version\n",
    "final_model.build_datetime = datetime.datetime.now()\n",
    "\n",
    "# save the model\n",
    "\n",
    "modelpath = '../models'\n",
    "save_file(final_model, 'customer_analysis_model.pkl', modelpath)"
   ]
  },
  {
   "cell_type": "markdown",
   "id": "e5d95371",
   "metadata": {},
   "source": [
    "## Summary and further analysis"
   ]
  },
  {
   "cell_type": "markdown",
   "id": "5397a5cf",
   "metadata": {},
   "source": [
    "- To solve this binary classification problem, I trained 5 different supervised machine learning models. After comparing and evaluating the model performance, the final random forest model is selected and applied to predict customers' response to the last marketing champaign. \n",
    "- The final random forest model has the average accuracy of 0.88 and a strong roc_auc of 0.85, which is consistent with cross validation roc of 0.83. The random forest model is fast to train, easy to tune and not prone to overfitting.\n",
    "- The analysis of customers' family structures, income and spending behaviors can help business better plan marketing strategies, boost new customer enrollment and potentially increase revenue. Further analysis which features contribute most to customers' total expenses may generate more insights from the data."
   ]
  }
 ],
 "metadata": {
  "kernelspec": {
   "display_name": "Python 3",
   "language": "python",
   "name": "python3"
  },
  "language_info": {
   "codemirror_mode": {
    "name": "ipython",
    "version": 3
   },
   "file_extension": ".py",
   "mimetype": "text/x-python",
   "name": "python",
   "nbconvert_exporter": "python",
   "pygments_lexer": "ipython3",
   "version": "3.7.11"
  },
  "toc": {
   "base_numbering": 1,
   "nav_menu": {},
   "number_sections": true,
   "sideBar": true,
   "skip_h1_title": false,
   "title_cell": "Table of Contents",
   "title_sidebar": "Contents",
   "toc_cell": true,
   "toc_position": {},
   "toc_section_display": true,
   "toc_window_display": false
  }
 },
 "nbformat": 4,
 "nbformat_minor": 5
}
